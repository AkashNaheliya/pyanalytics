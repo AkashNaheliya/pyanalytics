{
 "cells": [
  {
   "cell_type": "markdown",
   "id": "2467a2b6-e142-438b-b996-5a74f890b57f",
   "metadata": {},
   "source": [
    "# Data Structure - 3\n",
    "-  pandas"
   ]
  },
  {
   "cell_type": "markdown",
   "id": "1eb8e635-2d38-4cc5-bed1-845b82d52434",
   "metadata": {
    "tags": []
   },
   "source": [
    "## Pandas\n",
    "-  http://cs231n.github.io/python-numpy-tutorial/\n",
    "-  pandas - dataframe, excel like \n",
    "-  https://mode.com/python-tutorial/pandas-dataframe/ \n",
    "-  https://pandas.pydata.org/pandas-docs/stable/\n",
    "-  "
   ]
  },
  {
   "cell_type": "code",
   "execution_count": 47,
   "id": "259b7266-c928-46af-b0c4-4eaccd8be115",
   "metadata": {
    "tags": []
   },
   "outputs": [
    {
     "name": "stdout",
     "output_type": "stream",
     "text": [
      "2.0.3\n"
     ]
    }
   ],
   "source": [
    "import pandas as pd\n",
    "import numpy as np\n",
    "import os\n",
    "#https://pandas.pydata.org/\n",
    "print(pd.__version__)"
   ]
  },
  {
   "cell_type": "code",
   "execution_count": 51,
   "id": "5deb6b21-9e47-4447-b42e-e559faf4f83c",
   "metadata": {
    "tags": []
   },
   "outputs": [
    {
     "data": {
      "text/html": [
       "<div>\n",
       "<style scoped>\n",
       "    .dataframe tbody tr th:only-of-type {\n",
       "        vertical-align: middle;\n",
       "    }\n",
       "\n",
       "    .dataframe tbody tr th {\n",
       "        vertical-align: top;\n",
       "    }\n",
       "\n",
       "    .dataframe thead th {\n",
       "        text-align: right;\n",
       "    }\n",
       "</style>\n",
       "<table border=\"1\" class=\"dataframe\">\n",
       "  <thead>\n",
       "    <tr style=\"text-align: right;\">\n",
       "      <th></th>\n",
       "      <th>columnName</th>\n",
       "    </tr>\n",
       "  </thead>\n",
       "  <tbody>\n",
       "    <tr>\n",
       "      <th>0</th>\n",
       "      <td>1</td>\n",
       "    </tr>\n",
       "    <tr>\n",
       "      <th>1</th>\n",
       "      <td>2</td>\n",
       "    </tr>\n",
       "    <tr>\n",
       "      <th>2</th>\n",
       "      <td>3</td>\n",
       "    </tr>\n",
       "    <tr>\n",
       "      <th>3</th>\n",
       "      <td>4</td>\n",
       "    </tr>\n",
       "    <tr>\n",
       "      <th>4</th>\n",
       "      <td>5</td>\n",
       "    </tr>\n",
       "    <tr>\n",
       "      <th>5</th>\n",
       "      <td>10</td>\n",
       "    </tr>\n",
       "    <tr>\n",
       "      <th>6</th>\n",
       "      <td>15</td>\n",
       "    </tr>\n",
       "    <tr>\n",
       "      <th>7</th>\n",
       "      <td>20</td>\n",
       "    </tr>\n",
       "  </tbody>\n",
       "</table>\n",
       "</div>"
      ],
      "text/plain": [
       "   columnName\n",
       "0           1\n",
       "1           2\n",
       "2           3\n",
       "3           4\n",
       "4           5\n",
       "5          10\n",
       "6          15\n",
       "7          20"
      ]
     },
     "execution_count": 51,
     "metadata": {},
     "output_type": "execute_result"
    }
   ],
   "source": [
    "#from list\n",
    "my_list = [1,2,3,4,5,10,15,20]\n",
    "df = pd.DataFrame(my_list , columns = ['columnName'])\n",
    "df"
   ]
  },
  {
   "cell_type": "code",
   "execution_count": 52,
   "id": "83461c4c-8ad8-42f4-a433-5e0ec23cca6b",
   "metadata": {
    "tags": []
   },
   "outputs": [
    {
     "data": {
      "text/html": [
       "<div>\n",
       "<style scoped>\n",
       "    .dataframe tbody tr th:only-of-type {\n",
       "        vertical-align: middle;\n",
       "    }\n",
       "\n",
       "    .dataframe tbody tr th {\n",
       "        vertical-align: top;\n",
       "    }\n",
       "\n",
       "    .dataframe thead th {\n",
       "        text-align: right;\n",
       "    }\n",
       "</style>\n",
       "<table border=\"1\" class=\"dataframe\">\n",
       "  <thead>\n",
       "    <tr style=\"text-align: right;\">\n",
       "      <th></th>\n",
       "      <th>A</th>\n",
       "      <th>B</th>\n",
       "      <th>C</th>\n",
       "      <th>D</th>\n",
       "    </tr>\n",
       "  </thead>\n",
       "  <tbody>\n",
       "    <tr>\n",
       "      <th>0</th>\n",
       "      <td>1</td>\n",
       "      <td>10</td>\n",
       "      <td>12</td>\n",
       "      <td>20</td>\n",
       "    </tr>\n",
       "    <tr>\n",
       "      <th>1</th>\n",
       "      <td>2</td>\n",
       "      <td>20</td>\n",
       "      <td>14</td>\n",
       "      <td>40</td>\n",
       "    </tr>\n",
       "    <tr>\n",
       "      <th>2</th>\n",
       "      <td>3</td>\n",
       "      <td>5</td>\n",
       "      <td>17</td>\n",
       "      <td>10</td>\n",
       "    </tr>\n",
       "    <tr>\n",
       "      <th>3</th>\n",
       "      <td>5</td>\n",
       "      <td>39</td>\n",
       "      <td>18</td>\n",
       "      <td>30</td>\n",
       "    </tr>\n",
       "    <tr>\n",
       "      <th>4</th>\n",
       "      <td>9</td>\n",
       "      <td>7</td>\n",
       "      <td>8</td>\n",
       "      <td>7</td>\n",
       "    </tr>\n",
       "  </tbody>\n",
       "</table>\n",
       "</div>"
      ],
      "text/plain": [
       "   A   B   C   D\n",
       "0  1  10  12  20\n",
       "1  2  20  14  40\n",
       "2  3   5  17  10\n",
       "3  5  39  18  30\n",
       "4  9   7   8   7"
      ]
     },
     "execution_count": 52,
     "metadata": {},
     "output_type": "execute_result"
    }
   ],
   "source": [
    "# from dictionary\n",
    "my_dict = { 'A':[1,2,3,5, 9], 'B': [10, 20, 5, 39, 7],'C':[12,14,17,18,8],'D':[20,40,10,30,7]}\n",
    "df = pd.DataFrame(my_dict)\n",
    "df"
   ]
  },
  {
   "cell_type": "code",
   "execution_count": 53,
   "id": "41350484-88f3-408e-9fbe-2909fa8e5a33",
   "metadata": {
    "tags": []
   },
   "outputs": [
    {
     "data": {
      "text/plain": [
       "A     2\n",
       "B    20\n",
       "C    14\n",
       "D    40\n",
       "Name: 1, dtype: int64"
      ]
     },
     "execution_count": 53,
     "metadata": {},
     "output_type": "execute_result"
    }
   ],
   "source": [
    "df.loc[1]  #row label"
   ]
  },
  {
   "cell_type": "code",
   "execution_count": 54,
   "id": "e3bc5c1f-cf02-4dc0-8f2c-405cb576361b",
   "metadata": {
    "tags": []
   },
   "outputs": [
    {
     "data": {
      "text/plain": [
       "A     3\n",
       "B     5\n",
       "C    17\n",
       "D    10\n",
       "Name: 2, dtype: int64"
      ]
     },
     "execution_count": 54,
     "metadata": {},
     "output_type": "execute_result"
    }
   ],
   "source": [
    "df.iloc[2] # row index"
   ]
  },
  {
   "cell_type": "code",
   "execution_count": 55,
   "id": "043adc7e-d3a1-47fb-843d-373efb7c2f73",
   "metadata": {
    "tags": []
   },
   "outputs": [
    {
     "data": {
      "text/plain": [
       "10"
      ]
     },
     "execution_count": 55,
     "metadata": {},
     "output_type": "execute_result"
    }
   ],
   "source": [
    "df.iat[0,1]  #single value interesction of row and col; col & row by index"
   ]
  },
  {
   "cell_type": "code",
   "execution_count": 56,
   "id": "8f302839-73bb-41ec-b7d0-e78678012976",
   "metadata": {
    "tags": []
   },
   "outputs": [
    {
     "data": {
      "text/plain": [
       "20"
      ]
     },
     "execution_count": 56,
     "metadata": {},
     "output_type": "execute_result"
    }
   ],
   "source": [
    "df.at[0,'D']  #column by name"
   ]
  },
  {
   "cell_type": "code",
   "execution_count": 57,
   "id": "a4189475-bb13-482b-9d67-5af17676229f",
   "metadata": {
    "tags": []
   },
   "outputs": [
    {
     "data": {
      "text/html": [
       "<div>\n",
       "<style scoped>\n",
       "    .dataframe tbody tr th:only-of-type {\n",
       "        vertical-align: middle;\n",
       "    }\n",
       "\n",
       "    .dataframe tbody tr th {\n",
       "        vertical-align: top;\n",
       "    }\n",
       "\n",
       "    .dataframe thead th {\n",
       "        text-align: right;\n",
       "    }\n",
       "</style>\n",
       "<table border=\"1\" class=\"dataframe\">\n",
       "  <thead>\n",
       "    <tr style=\"text-align: right;\">\n",
       "      <th></th>\n",
       "      <th>income</th>\n",
       "      <th>B</th>\n",
       "      <th>C</th>\n",
       "      <th>D</th>\n",
       "    </tr>\n",
       "  </thead>\n",
       "  <tbody>\n",
       "    <tr>\n",
       "      <th>0</th>\n",
       "      <td>1</td>\n",
       "      <td>10</td>\n",
       "      <td>12</td>\n",
       "      <td>20</td>\n",
       "    </tr>\n",
       "    <tr>\n",
       "      <th>1</th>\n",
       "      <td>2</td>\n",
       "      <td>20</td>\n",
       "      <td>14</td>\n",
       "      <td>40</td>\n",
       "    </tr>\n",
       "    <tr>\n",
       "      <th>2</th>\n",
       "      <td>3</td>\n",
       "      <td>5</td>\n",
       "      <td>17</td>\n",
       "      <td>10</td>\n",
       "    </tr>\n",
       "    <tr>\n",
       "      <th>3</th>\n",
       "      <td>5</td>\n",
       "      <td>39</td>\n",
       "      <td>18</td>\n",
       "      <td>30</td>\n",
       "    </tr>\n",
       "    <tr>\n",
       "      <th>4</th>\n",
       "      <td>9</td>\n",
       "      <td>7</td>\n",
       "      <td>8</td>\n",
       "      <td>7</td>\n",
       "    </tr>\n",
       "  </tbody>\n",
       "</table>\n",
       "</div>"
      ],
      "text/plain": [
       "   income   B   C   D\n",
       "0       1  10  12  20\n",
       "1       2  20  14  40\n",
       "2       3   5  17  10\n",
       "3       5  39  18  30\n",
       "4       9   7   8   7"
      ]
     },
     "execution_count": 57,
     "metadata": {},
     "output_type": "execute_result"
    }
   ],
   "source": [
    "df.rename(columns = {'A':'income'})"
   ]
  },
  {
   "cell_type": "code",
   "execution_count": null,
   "id": "e77f472f-7818-4440-9230-43fa39375281",
   "metadata": {
    "tags": []
   },
   "outputs": [],
   "source": [
    "df['D'].apply(lambda x : x*x)"
   ]
  },
  {
   "cell_type": "code",
   "execution_count": null,
   "id": "6cee048e-71c7-46cb-9cfc-dda7d54f8ec7",
   "metadata": {
    "tags": []
   },
   "outputs": [],
   "source": [
    "df.replace(10,0)"
   ]
  },
  {
   "cell_type": "code",
   "execution_count": null,
   "id": "c6b91bba-3848-40b2-a840-6978926c8250",
   "metadata": {
    "tags": []
   },
   "outputs": [],
   "source": [
    "df.agg({'C':['min', 'max', 'mean', 'sum',]})"
   ]
  },
  {
   "cell_type": "code",
   "execution_count": 58,
   "id": "a23abfa0-4631-478c-bfb7-37c53d401fe5",
   "metadata": {
    "tags": []
   },
   "outputs": [
    {
     "name": "stdout",
     "output_type": "stream",
     "text": [
      "   rollno  marks1\n",
      "0       1       4\n",
      "1       2       5\n",
      "2       3       6\n",
      "   rollno  marks2\n",
      "0       1       7\n",
      "1       2       8\n",
      "2       3       9\n"
     ]
    }
   ],
   "source": [
    "df1 = pd.DataFrame({'rollno':[1,2,3], 'marks1':[4,5,6]})\n",
    "df2 = pd.DataFrame({'rollno':[1,2,3], 'marks2':[7,8,9]})\n",
    "print(df1)\n",
    "print(df2)\n",
    "\n",
    "#df = pd.merge(df1, df2, on='rollno') #\n",
    "#merge is more versatile, it requires specifying the columns as a merge key. \n",
    "#print(df)"
   ]
  },
  {
   "cell_type": "code",
   "execution_count": 59,
   "id": "1613c502-0dff-48dd-a63a-91fa05560ece",
   "metadata": {
    "tags": []
   },
   "outputs": [
    {
     "name": "stdout",
     "output_type": "stream",
     "text": [
      "   A  B\n",
      "0  1  4\n",
      "1  2  5\n",
      "2  3  6 \n",
      "    C\n",
      "0  7\n",
      "1  8\n",
      "2  9\n"
     ]
    },
    {
     "data": {
      "text/html": [
       "<div>\n",
       "<style scoped>\n",
       "    .dataframe tbody tr th:only-of-type {\n",
       "        vertical-align: middle;\n",
       "    }\n",
       "\n",
       "    .dataframe tbody tr th {\n",
       "        vertical-align: top;\n",
       "    }\n",
       "\n",
       "    .dataframe thead th {\n",
       "        text-align: right;\n",
       "    }\n",
       "</style>\n",
       "<table border=\"1\" class=\"dataframe\">\n",
       "  <thead>\n",
       "    <tr style=\"text-align: right;\">\n",
       "      <th></th>\n",
       "      <th>A</th>\n",
       "      <th>B</th>\n",
       "      <th>C</th>\n",
       "    </tr>\n",
       "  </thead>\n",
       "  <tbody>\n",
       "    <tr>\n",
       "      <th>0</th>\n",
       "      <td>1</td>\n",
       "      <td>4</td>\n",
       "      <td>7</td>\n",
       "    </tr>\n",
       "    <tr>\n",
       "      <th>1</th>\n",
       "      <td>2</td>\n",
       "      <td>5</td>\n",
       "      <td>8</td>\n",
       "    </tr>\n",
       "    <tr>\n",
       "      <th>2</th>\n",
       "      <td>3</td>\n",
       "      <td>6</td>\n",
       "      <td>9</td>\n",
       "    </tr>\n",
       "  </tbody>\n",
       "</table>\n",
       "</div>"
      ],
      "text/plain": [
       "   A  B  C\n",
       "0  1  4  7\n",
       "1  2  5  8\n",
       "2  3  6  9"
      ]
     },
     "execution_count": 59,
     "metadata": {},
     "output_type": "execute_result"
    }
   ],
   "source": [
    "df1 = pd.DataFrame({'A':[1,2,3], 'B':[4,5,6]})\n",
    "df2 = pd.DataFrame({'C':[7,8,9]})\n",
    "print (df1,'\\n', df2)\n",
    "df = df1.join(df2)  #using index key\n",
    "df"
   ]
  },
  {
   "cell_type": "code",
   "execution_count": 60,
   "id": "173b1059-1533-4d89-ad74-005b87e0dd3e",
   "metadata": {
    "tags": []
   },
   "outputs": [
    {
     "data": {
      "text/html": [
       "<div>\n",
       "<style scoped>\n",
       "    .dataframe tbody tr th:only-of-type {\n",
       "        vertical-align: middle;\n",
       "    }\n",
       "\n",
       "    .dataframe tbody tr th {\n",
       "        vertical-align: top;\n",
       "    }\n",
       "\n",
       "    .dataframe thead th {\n",
       "        text-align: right;\n",
       "    }\n",
       "</style>\n",
       "<table border=\"1\" class=\"dataframe\">\n",
       "  <thead>\n",
       "    <tr style=\"text-align: right;\">\n",
       "      <th></th>\n",
       "      <th>A</th>\n",
       "      <th>B</th>\n",
       "      <th>C</th>\n",
       "      <th>date</th>\n",
       "    </tr>\n",
       "  </thead>\n",
       "  <tbody>\n",
       "    <tr>\n",
       "      <th>0</th>\n",
       "      <td>1</td>\n",
       "      <td>4</td>\n",
       "      <td>7</td>\n",
       "      <td>2023-10-02</td>\n",
       "    </tr>\n",
       "    <tr>\n",
       "      <th>1</th>\n",
       "      <td>2</td>\n",
       "      <td>5</td>\n",
       "      <td>8</td>\n",
       "      <td>2023-10-02</td>\n",
       "    </tr>\n",
       "    <tr>\n",
       "      <th>2</th>\n",
       "      <td>3</td>\n",
       "      <td>6</td>\n",
       "      <td>9</td>\n",
       "      <td>2023-10-02</td>\n",
       "    </tr>\n",
       "  </tbody>\n",
       "</table>\n",
       "</div>"
      ],
      "text/plain": [
       "   A  B  C       date\n",
       "0  1  4  7 2023-10-02\n",
       "1  2  5  8 2023-10-02\n",
       "2  3  6  9 2023-10-02"
      ]
     },
     "execution_count": 60,
     "metadata": {},
     "output_type": "execute_result"
    }
   ],
   "source": [
    "df['date'] = pd.to_datetime('2023-10-02')\n",
    "df"
   ]
  },
  {
   "cell_type": "code",
   "execution_count": 62,
   "id": "2a94f334-715e-450d-8e79-552c5431eda8",
   "metadata": {
    "tags": []
   },
   "outputs": [],
   "source": [
    "import datetime as dt"
   ]
  },
  {
   "cell_type": "code",
   "execution_count": 61,
   "id": "da9c6ef9-3f54-4ff0-8c91-6e53186ccd07",
   "metadata": {
    "tags": []
   },
   "outputs": [
    {
     "name": "stdout",
     "output_type": "stream",
     "text": [
      "0    2023\n",
      "1    2023\n",
      "2    2023\n",
      "Name: date, dtype: int32\n",
      "0    10\n",
      "1    10\n",
      "2    10\n",
      "Name: date, dtype: int32\n",
      "0    2\n",
      "1    2\n",
      "2    2\n",
      "Name: date, dtype: int32\n"
     ]
    }
   ],
   "source": [
    "print(df['date'].dt.year)\n",
    "print(df['date'].dt.month)\n",
    "print(df['date'].dt.day)"
   ]
  },
  {
   "cell_type": "code",
   "execution_count": 63,
   "id": "49eed296-28b0-414a-bc21-2ef2a76553d1",
   "metadata": {
    "tags": []
   },
   "outputs": [],
   "source": [
    "df.to_csv('filedf.csv', index=False)"
   ]
  },
  {
   "cell_type": "code",
   "execution_count": 64,
   "id": "639422e6-5098-452c-ad86-7fa0af0a321f",
   "metadata": {
    "tags": []
   },
   "outputs": [
    {
     "data": {
      "text/plain": [
       "['.git',\n",
       " '.gitattributes',\n",
       " '.ipynb_checkpoints',\n",
       " 'A52_dsNP.ipynb',\n",
       " 'A53_dsPD.ipynb',\n",
       " 'filedf.csv',\n",
       " 'Untitled.ipynb']"
      ]
     },
     "execution_count": 64,
     "metadata": {},
     "output_type": "execute_result"
    }
   ],
   "source": [
    "os.listdir()"
   ]
  },
  {
   "cell_type": "code",
   "execution_count": null,
   "id": "a5e8cda5-3c22-4b98-b821-bca67a938790",
   "metadata": {},
   "outputs": [],
   "source": [
    "## larger DF"
   ]
  },
  {
   "cell_type": "code",
   "execution_count": 65,
   "id": "92041c2c-701a-4ad9-a2f1-4e17f9f772c7",
   "metadata": {
    "tags": []
   },
   "outputs": [
    {
     "name": "stdout",
     "output_type": "stream",
     "text": [
      "   rollno    name  marks gender\n",
      "0       1  Dhiraj   40.0      M\n",
      "1       2  Kounal   50.0      M\n",
      "2       3   Akhil   60.5      M\n",
      "3       4   Pooja   70.0      F\n",
      "4       5   Disha   93.0      F\n"
     ]
    },
    {
     "data": {
      "text/plain": [
       "pandas.core.frame.DataFrame"
      ]
     },
     "execution_count": 65,
     "metadata": {},
     "output_type": "execute_result"
    }
   ],
   "source": [
    "df1 = pd.DataFrame({'rollno':[1,2,3,4,5], \n",
    "                    'name': [ \"Dhiraj\", \"Kounal\", \"Akhil\", \"Pooja\",\"Disha\" ], \n",
    "                    'marks':[ 40, 50, 60.5, 70, 93 ], \n",
    "                    'gender':['M', 'M','M', 'F', 'F']})\n",
    "print(df1)  # dict format\n",
    "type(df1) "
   ]
  },
  {
   "cell_type": "code",
   "execution_count": 66,
   "id": "c4ba36ae-d2bb-48c8-90d9-b7998bef2f33",
   "metadata": {
    "tags": []
   },
   "outputs": [
    {
     "name": "stdout",
     "output_type": "stream",
     "text": [
      "Column Names -  Index(['rollno', 'name', 'marks', 'gender'], dtype='object')\n",
      "Index/ Row Names -  RangeIndex(start=0, stop=5, step=1)\n",
      "Data Types -\n",
      " rollno      int64\n",
      "name       object\n",
      "marks     float64\n",
      "gender     object\n",
      "dtype: object\n",
      "Shape of DF(R-C) - (5, 4)\n"
     ]
    }
   ],
   "source": [
    "print('Column Names - ', df1.columns)  #column names\n",
    "print('Index/ Row Names - ', df1.index)  #row ids/ names  - here auto created\n",
    "print('Data Types -\\n', df1.dtypes) #data types\n",
    "print('Shape of DF(R-C) -', df1.shape)  # rows and columns"
   ]
  },
  {
   "cell_type": "code",
   "execution_count": 67,
   "id": "8fa036bd-6bc6-46b5-9764-d63c48bd97f9",
   "metadata": {
    "tags": []
   },
   "outputs": [
    {
     "name": "stdout",
     "output_type": "stream",
     "text": [
      "Describe Values (Numerical)-\t  \n"
     ]
    },
    {
     "data": {
      "text/html": [
       "<div>\n",
       "<style scoped>\n",
       "    .dataframe tbody tr th:only-of-type {\n",
       "        vertical-align: middle;\n",
       "    }\n",
       "\n",
       "    .dataframe tbody tr th {\n",
       "        vertical-align: top;\n",
       "    }\n",
       "\n",
       "    .dataframe thead th {\n",
       "        text-align: right;\n",
       "    }\n",
       "</style>\n",
       "<table border=\"1\" class=\"dataframe\">\n",
       "  <thead>\n",
       "    <tr style=\"text-align: right;\">\n",
       "      <th></th>\n",
       "      <th>rollno</th>\n",
       "      <th>marks</th>\n",
       "    </tr>\n",
       "  </thead>\n",
       "  <tbody>\n",
       "    <tr>\n",
       "      <th>count</th>\n",
       "      <td>5.000000</td>\n",
       "      <td>5.000000</td>\n",
       "    </tr>\n",
       "    <tr>\n",
       "      <th>mean</th>\n",
       "      <td>3.000000</td>\n",
       "      <td>62.700000</td>\n",
       "    </tr>\n",
       "    <tr>\n",
       "      <th>std</th>\n",
       "      <td>1.581139</td>\n",
       "      <td>20.327322</td>\n",
       "    </tr>\n",
       "    <tr>\n",
       "      <th>min</th>\n",
       "      <td>1.000000</td>\n",
       "      <td>40.000000</td>\n",
       "    </tr>\n",
       "    <tr>\n",
       "      <th>25%</th>\n",
       "      <td>2.000000</td>\n",
       "      <td>50.000000</td>\n",
       "    </tr>\n",
       "    <tr>\n",
       "      <th>50%</th>\n",
       "      <td>3.000000</td>\n",
       "      <td>60.500000</td>\n",
       "    </tr>\n",
       "    <tr>\n",
       "      <th>75%</th>\n",
       "      <td>4.000000</td>\n",
       "      <td>70.000000</td>\n",
       "    </tr>\n",
       "    <tr>\n",
       "      <th>max</th>\n",
       "      <td>5.000000</td>\n",
       "      <td>93.000000</td>\n",
       "    </tr>\n",
       "  </tbody>\n",
       "</table>\n",
       "</div>"
      ],
      "text/plain": [
       "         rollno      marks\n",
       "count  5.000000   5.000000\n",
       "mean   3.000000  62.700000\n",
       "std    1.581139  20.327322\n",
       "min    1.000000  40.000000\n",
       "25%    2.000000  50.000000\n",
       "50%    3.000000  60.500000\n",
       "75%    4.000000  70.000000\n",
       "max    5.000000  93.000000"
      ]
     },
     "execution_count": 67,
     "metadata": {},
     "output_type": "execute_result"
    }
   ],
   "source": [
    "print('Describe Values (Numerical)-\\t  ')\n",
    "df1.describe() #description of numerical values"
   ]
  },
  {
   "cell_type": "code",
   "execution_count": 68,
   "id": "577fb5c0-5a57-496c-8c84-277c4f1b00a4",
   "metadata": {
    "tags": []
   },
   "outputs": [
    {
     "data": {
      "text/plain": [
       "gender\n",
       "F    2\n",
       "M    3\n",
       "dtype: int64"
      ]
     },
     "execution_count": 68,
     "metadata": {},
     "output_type": "execute_result"
    }
   ],
   "source": [
    "# Groupby Functions on DF\n",
    "df1.groupby('gender').size()  # how many M, F"
   ]
  },
  {
   "cell_type": "markdown",
   "id": "7ab5a8b8-6b72-415d-be08-f45e54d6e923",
   "metadata": {},
   "source": [
    "## using Built In Data Sets\n",
    "-  install pydatasets : !pip install pydataset"
   ]
  },
  {
   "cell_type": "code",
   "execution_count": 49,
   "id": "e78f96d9",
   "metadata": {},
   "outputs": [
    {
     "name": "stdout",
     "output_type": "stream",
     "text": [
      "Defaulting to user installation because normal site-packages is not writeable\n",
      "Requirement already satisfied: pydataset in c:\\users\\akash\\appdata\\roaming\\python\\python311\\site-packages (0.2.0)\n",
      "Requirement already satisfied: pandas in c:\\programdata\\anaconda3\\lib\\site-packages (from pydataset) (2.0.3)\n",
      "Requirement already satisfied: python-dateutil>=2.8.2 in c:\\programdata\\anaconda3\\lib\\site-packages (from pandas->pydataset) (2.8.2)\n",
      "Requirement already satisfied: pytz>=2020.1 in c:\\programdata\\anaconda3\\lib\\site-packages (from pandas->pydataset) (2023.3.post1)\n",
      "Requirement already satisfied: tzdata>=2022.1 in c:\\programdata\\anaconda3\\lib\\site-packages (from pandas->pydataset) (2023.3)\n",
      "Requirement already satisfied: numpy>=1.21.0 in c:\\programdata\\anaconda3\\lib\\site-packages (from pandas->pydataset) (1.24.3)\n",
      "Requirement already satisfied: six>=1.5 in c:\\programdata\\anaconda3\\lib\\site-packages (from python-dateutil>=2.8.2->pandas->pydataset) (1.16.0)\n"
     ]
    }
   ],
   "source": [
    "!pip install pydataset"
   ]
  },
  {
   "cell_type": "code",
   "execution_count": 50,
   "id": "88d177ac-8df7-4de5-b2a3-cf548f6c4211",
   "metadata": {
    "tags": []
   },
   "outputs": [
    {
     "ename": "ModuleNotFoundError",
     "evalue": "No module named 'pydataset'",
     "output_type": "error",
     "traceback": [
      "\u001b[1;31m---------------------------------------------------------------------------\u001b[0m",
      "\u001b[1;31mModuleNotFoundError\u001b[0m                       Traceback (most recent call last)",
      "Cell \u001b[1;32mIn[50], line 1\u001b[0m\n\u001b[1;32m----> 1\u001b[0m \u001b[38;5;28;01mfrom\u001b[39;00m \u001b[38;5;21;01mpydataset\u001b[39;00m \u001b[38;5;28;01mimport\u001b[39;00m data\n\u001b[0;32m      2\u001b[0m mtcars \u001b[38;5;241m=\u001b[39m data(\u001b[38;5;124m'\u001b[39m\u001b[38;5;124mmtcars\u001b[39m\u001b[38;5;124m'\u001b[39m)\n\u001b[0;32m      3\u001b[0m mtcars\u001b[38;5;241m.\u001b[39mshape\n",
      "\u001b[1;31mModuleNotFoundError\u001b[0m: No module named 'pydataset'"
     ]
    }
   ],
   "source": [
    "from pydataset import data\n",
    "mtcars = data('mtcars')\n",
    "mtcars.shape"
   ]
  },
  {
   "cell_type": "code",
   "execution_count": null,
   "id": "89572484-52e8-4c8b-989c-2f836f50808e",
   "metadata": {
    "tags": []
   },
   "outputs": [],
   "source": [
    "mtcars.head()"
   ]
  },
  {
   "cell_type": "code",
   "execution_count": null,
   "id": "41be6d84-72a3-47d6-80ea-3d0ac14a33c2",
   "metadata": {
    "tags": []
   },
   "outputs": [],
   "source": [
    "mtcars.describe(include='all')"
   ]
  },
  {
   "cell_type": "code",
   "execution_count": null,
   "id": "0721fd4b-d552-4c0c-bf3e-39e9aff1fb8d",
   "metadata": {
    "tags": []
   },
   "outputs": [],
   "source": [
    "mtcars.columns"
   ]
  },
  {
   "cell_type": "code",
   "execution_count": null,
   "id": "b2405ddd-d21a-418d-a028-dd00fa37a94c",
   "metadata": {
    "tags": []
   },
   "outputs": [],
   "source": [
    "# settings of pandas\n",
    "# https://pandas.pydata.org/docs/user_guide/options.html\n",
    "pd.set_option('display.max_columns', None)\n",
    "pd.set_option('max_colwidth', None)\n",
    "pd.set_option(\"expand_frame_repr\", True)\n",
    "pd.set_option(\"max_info_columns\", 11)\n",
    "pd.set_option(\"display.precision\", 3)\n",
    "pd.set_option('display.width', 1000)  #wrap with full display"
   ]
  },
  {
   "cell_type": "code",
   "execution_count": null,
   "id": "ffb9b2a7-f1e4-4263-96f3-6cd5c7ce88e6",
   "metadata": {
    "tags": []
   },
   "outputs": [],
   "source": [
    "np.set_printoptions(edgeitems=30, linewidth=100000,   formatter=dict(float=lambda x: \"%.3g\" % x))"
   ]
  },
  {
   "cell_type": "code",
   "execution_count": null,
   "id": "5ba09b70-a2dd-4f83-a95a-7ef5d4a7c5ce",
   "metadata": {
    "tags": []
   },
   "outputs": [],
   "source": [
    "mtcars.columns"
   ]
  },
  {
   "cell_type": "code",
   "execution_count": null,
   "id": "4c2f2527-7ffb-41b8-a062-7b38b49933ff",
   "metadata": {
    "tags": []
   },
   "outputs": [],
   "source": [
    "mtcars.mean()"
   ]
  },
  {
   "cell_type": "markdown",
   "id": "ebe51672-7200-43d0-8a9d-d7c9c65a295e",
   "metadata": {},
   "source": [
    "## Export Data to CSV/ Excel\n",
    "-  write to csv \n",
    "    -  https://pandas.pydata.org/docs/reference/api/pandas.DataFrame.to_csv.html\n",
    "-  write to excel\n",
    "-   -  https://pandas.pydata.org/docs/reference/api/pandas.DataFrame.to_excel.html\n",
    "-  write to other formats"
   ]
  },
  {
   "cell_type": "code",
   "execution_count": null,
   "id": "53d244d4-68b9-412c-86b7-5f0a8e91b07e",
   "metadata": {
    "tags": []
   },
   "outputs": [],
   "source": [
    "mtcars.to_csv( 'mtcars.csv')\n",
    "', '.join(os.listdir())"
   ]
  },
  {
   "cell_type": "code",
   "execution_count": null,
   "id": "bd236faf-ccab-44e6-8a72-7c01474884f5",
   "metadata": {
    "tags": []
   },
   "outputs": [],
   "source": [
    "import glob  #search file with pattern\n",
    "glob.glob(\"*.csv\")"
   ]
  },
  {
   "cell_type": "code",
   "execution_count": null,
   "id": "edabc44e-277d-4046-aab1-7ac3a744d823",
   "metadata": {
    "tags": []
   },
   "outputs": [],
   "source": [
    "mtcars.to_excel('mtcars.xlsx')"
   ]
  },
  {
   "cell_type": "code",
   "execution_count": null,
   "id": "4cbae60f-8325-415d-a91b-52d6f1ec7889",
   "metadata": {
    "tags": []
   },
   "outputs": [],
   "source": [
    "glob.glob(\"*.xlsx\")"
   ]
  },
  {
   "cell_type": "markdown",
   "id": "4a83d43d-3a66-4e99-81d9-01b4363f2150",
   "metadata": {},
   "source": [
    "## Import Data to CSV/ Excel/ Web CSV\n",
    "-  from csv\n",
    "-  from excel\n",
    "    -  https://pandas.pydata.org/docs/reference/api/pandas.read_excel.html"
   ]
  },
  {
   "cell_type": "code",
   "execution_count": null,
   "id": "8d3cbf4f-714f-4a44-a6f2-4b25a2dfc770",
   "metadata": {
    "tags": []
   },
   "outputs": [],
   "source": [
    "df1 = pd.read_csv('mtcars.csv')\n",
    "df1.head()"
   ]
  },
  {
   "cell_type": "code",
   "execution_count": null,
   "id": "407893dc-3f5d-4337-a570-5623dcb6eeff",
   "metadata": {
    "tags": []
   },
   "outputs": [],
   "source": [
    "df1B = df1.drop(\"Unnamed: 0\", axis=1)\n",
    "df1B.head()"
   ]
  },
  {
   "cell_type": "markdown",
   "id": "fbe5717e-616d-4026-9766-66b9d627ee61",
   "metadata": {
    "tags": []
   },
   "source": [
    "### remove unnamed column or at the time of saving to csv, don't save index column\n",
    "-  mtcars.to_csv('mtcars.csv', index=False)\n",
    "-  mtcars.to_excel('mtcars.xlsx', index=False)"
   ]
  },
  {
   "cell_type": "code",
   "execution_count": null,
   "id": "045cf7d9-d250-495e-9100-5471e238bbe5",
   "metadata": {
    "tags": []
   },
   "outputs": [],
   "source": [
    "df2 = pd.read_excel('mtcars.xlsx', sheet_name=0)\n",
    "df2.head()"
   ]
  },
  {
   "cell_type": "code",
   "execution_count": null,
   "id": "4a760dd8-71df-4a9e-9e7d-1f8bb48b3031",
   "metadata": {
    "tags": []
   },
   "outputs": [],
   "source": [
    "# Not try import your own data in excel or csv into python and do summary"
   ]
  },
  {
   "cell_type": "markdown",
   "id": "4ca1b7ae-9d3e-4340-bb63-f01dc0002ed5",
   "metadata": {},
   "source": [
    "## Links\n",
    "-  https://pandas.pydata.org/docs/user_guide/index.html\n",
    "-  https://pandas.pydata.org/docs/reference/index.html"
   ]
  },
  {
   "cell_type": "markdown",
   "id": "0eefde3a-7c73-4954-bbfc-fa98bde50495",
   "metadata": {},
   "source": [
    "### Next\n",
    "-  do summary actions on dataframe structure"
   ]
  },
  {
   "cell_type": "code",
   "execution_count": null,
   "id": "2266c9e0-025f-492a-b5e6-9b03e506dcff",
   "metadata": {},
   "outputs": [],
   "source": []
  }
 ],
 "metadata": {
  "kernelspec": {
   "display_name": "Python 3 (ipykernel)",
   "language": "python",
   "name": "python3"
  },
  "language_info": {
   "codemirror_mode": {
    "name": "ipython",
    "version": 3
   },
   "file_extension": ".py",
   "mimetype": "text/x-python",
   "name": "python",
   "nbconvert_exporter": "python",
   "pygments_lexer": "ipython3",
   "version": "3.11.5"
  }
 },
 "nbformat": 4,
 "nbformat_minor": 5
}
